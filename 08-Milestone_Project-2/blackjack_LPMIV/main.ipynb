{
 "cells": [
  {
   "cell_type": "code",
   "execution_count": 1,
   "metadata": {},
   "outputs": [],
   "source": [
    "from core import Deck,Dealer,Player\n",
    "from core import game_functions as game\n",
    "import time\n",
    "from IPython.core.display import clear_output as clear"
   ]
  },
  {
   "cell_type": "code",
   "execution_count": 2,
   "metadata": {},
   "outputs": [],
   "source": [
    "# Debug Mode Instanciation\n",
    "deck = Deck()\n",
    "dealer = Dealer()\n",
    "lee = Player('Lee',1)\n",
    "jack = Player('Jack',1)\n",
    "players = [lee,jack]"
   ]
  },
  {
   "cell_type": "code",
   "execution_count": 2,
   "metadata": {},
   "outputs": [],
   "source": [
    "# Instanciation\n",
    "deck = Deck()\n",
    "dealer = Dealer()\n",
    "players = game.player_objs(Player)"
   ]
  },
  {
   "cell_type": "code",
   "execution_count": null,
   "metadata": {},
   "outputs": [
    {
     "name": "stdout",
     "output_type": "stream",
     "text": [
      "Dealer-Hand: [Eight of Spades, Nine of Spades] | Total Hand: 17\n",
      "\n",
      "Jack | Round Bet: $400.00 | Total Earned: $0.00\n",
      "Main-Hand: [Jack of Spades] | Total Hand: 10\n"
     ]
    }
   ],
   "source": [
    "# Initial Deal\n",
    "while True:\n",
    "    for player in players:\n",
    "        if player.main_hand.status.inactive:\n",
    "            player.main_hand.status = 'Active'\n",
    "    deck.shuffle()\n",
    "    dealer.initial_deal = 1\n",
    "    for cycle in range(3):\n",
    "        if cycle == 1:\n",
    "            game.insurance_option(dealer,players)\n",
    "        elif cycle == 2:\n",
    "            dealer.initial_deal = 0\n",
    "            dealer.view()\n",
    "            game.insurance_option(dealer,players)\n",
    "            clear(True)\n",
    "            game.resolver(deck,dealer,players)\n",
    "            clear(True)\n",
    "            break\n",
    "        for player in players:\n",
    "            player.hit(player.main_hand,deck.deal())\n",
    "            if player == players[0]:\n",
    "                player.view()\n",
    "            else:\n",
    "                player.view(1)\n",
    "            time.sleep(8)\n",
    "        dealer.hit(dealer.main_hand,deck.deal())\n",
    "        dealer.view(1)\n",
    "        game.elapse(8,1)\n",
    "\n",
    "    # Main Play\n",
    "    for player in players:\n",
    "        player.interface(deck,dealer)\n",
    "    dealer.automate(deck)\n",
    "    game.resolver(deck,dealer,players)\n",
    "    time.sleep(8)\n",
    "    \n",
    "    # Replaying game if applicable.\n",
    "    game.replay_feed(players)\n",
    "    if len(players) > 0:\n",
    "        continue\n",
    "    else:\n",
    "        break"
   ]
  }
 ],
 "metadata": {
  "kernelspec": {
   "display_name": "Python 3",
   "language": "python",
   "name": "python3"
  },
  "language_info": {
   "codemirror_mode": {
    "name": "ipython",
    "version": 3
   },
   "file_extension": ".py",
   "mimetype": "text/x-python",
   "name": "python",
   "nbconvert_exporter": "python",
   "pygments_lexer": "ipython3",
   "version": "3.7.4"
  }
 },
 "nbformat": 4,
 "nbformat_minor": 2
}
