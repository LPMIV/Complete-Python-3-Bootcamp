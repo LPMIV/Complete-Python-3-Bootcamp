{
 "cells": [
  {
   "cell_type": "code",
   "execution_count": 5,
   "metadata": {},
   "outputs": [],
   "source": [
    "from core import Deck,Dealer,Player\n",
    "from core import game_functions as game\n",
    "import time\n",
    "from IPython.core.display import clear_output as clear"
   ]
  },
  {
   "cell_type": "code",
   "execution_count": 2,
   "metadata": {},
   "outputs": [],
   "source": [
    "# Debug Mode Instanciation\n",
    "deck = Deck()\n",
    "dealer = Dealer()\n",
    "lee = Player('Lee',1)\n",
    "jack = Player('Jack',1)\n",
    "players = [lee,jack]"
   ]
  },
  {
   "cell_type": "code",
   "execution_count": 2,
   "metadata": {},
   "outputs": [],
   "source": [
    "# Instanciation\n",
    "deck = Deck()\n",
    "dealer = Dealer()\n",
    "players = game.player_objs(Player)"
   ]
  },
  {
   "cell_type": "code",
   "execution_count": 3,
   "metadata": {},
   "outputs": [
    {
     "name": "stdout",
     "output_type": "stream",
     "text": [
      "Dealer-Hand: [Five of Hearts, Three of Hearts] | Total Hand: 8\n"
     ]
    },
    {
     "ename": "AttributeError",
     "evalue": "'function' object has no attribute 'clear'",
     "output_type": "error",
     "traceback": [
      "\u001b[1;31m---------------------------------------------------------------------------\u001b[0m",
      "\u001b[1;31mAttributeError\u001b[0m                            Traceback (most recent call last)",
      "\u001b[1;32m<ipython-input-3-72a2a346fc06>\u001b[0m in \u001b[0;36m<module>\u001b[1;34m\u001b[0m\n\u001b[0;32m     13\u001b[0m             \u001b[0mdealer\u001b[0m\u001b[1;33m.\u001b[0m\u001b[0mview\u001b[0m\u001b[1;33m(\u001b[0m\u001b[1;33m)\u001b[0m\u001b[1;33m\u001b[0m\u001b[1;33m\u001b[0m\u001b[0m\n\u001b[0;32m     14\u001b[0m             \u001b[0mgame\u001b[0m\u001b[1;33m.\u001b[0m\u001b[0minsurance_option\u001b[0m\u001b[1;33m(\u001b[0m\u001b[0mdealer\u001b[0m\u001b[1;33m,\u001b[0m\u001b[0mplayers\u001b[0m\u001b[1;33m)\u001b[0m\u001b[1;33m\u001b[0m\u001b[1;33m\u001b[0m\u001b[0m\n\u001b[1;32m---> 15\u001b[1;33m             \u001b[0mauto\u001b[0m\u001b[1;33m.\u001b[0m\u001b[0mclear\u001b[0m\u001b[1;33m(\u001b[0m\u001b[1;32mTrue\u001b[0m\u001b[1;33m)\u001b[0m\u001b[1;33m\u001b[0m\u001b[1;33m\u001b[0m\u001b[0m\n\u001b[0m\u001b[0;32m     16\u001b[0m             \u001b[0mgame\u001b[0m\u001b[1;33m.\u001b[0m\u001b[0mresolver\u001b[0m\u001b[1;33m(\u001b[0m\u001b[0mdeck\u001b[0m\u001b[1;33m,\u001b[0m\u001b[0mdealer\u001b[0m\u001b[1;33m,\u001b[0m\u001b[0mplayers\u001b[0m\u001b[1;33m)\u001b[0m\u001b[1;33m\u001b[0m\u001b[1;33m\u001b[0m\u001b[0m\n\u001b[0;32m     17\u001b[0m             \u001b[0mauto\u001b[0m\u001b[1;33m.\u001b[0m\u001b[0mclear\u001b[0m\u001b[1;33m(\u001b[0m\u001b[1;32mTrue\u001b[0m\u001b[1;33m)\u001b[0m\u001b[1;33m\u001b[0m\u001b[1;33m\u001b[0m\u001b[0m\n",
      "\u001b[1;31mAttributeError\u001b[0m: 'function' object has no attribute 'clear'"
     ]
    }
   ],
   "source": [
    "# Initial Deal\n",
    "while True:\n",
    "    for player in players:\n",
    "        if player.main_hand.status.inactive:\n",
    "            player.main_hand.status = 'Active'\n",
    "    deck.shuffle()\n",
    "    dealer.initial_deal = 1\n",
    "    for cycle in range(3):\n",
    "        if cycle == 1:\n",
    "            game.insurance_option(dealer,players)\n",
    "        elif cycle == 2:\n",
    "            dealer.initial_deal = 0\n",
    "            dealer.view()\n",
    "            game.insurance_option(dealer,players)\n",
    "            clear(True)\n",
    "            game.resolver(deck,dealer,players)\n",
    "            clear(True)\n",
    "            break\n",
    "        for player in players:\n",
    "            player.hit(player.main_hand,deck.deal())\n",
    "            if player == players[0]:\n",
    "                player.view()\n",
    "            else:\n",
    "                player.view(1)\n",
    "            time.sleep(8)\n",
    "        dealer.hit(dealer.main_hand,deck.deal())\n",
    "        dealer.view(1)\n",
    "        game.elapse(8,1)\n",
    "\n",
    "    # Main Play\n",
    "    for player in players:\n",
    "        player.interface(deck,dealer)\n",
    "    dealer.automate(deck)\n",
    "    game.resolver(deck,dealer,players)\n",
    "    time.sleep(8)\n",
    "    \n",
    "    # Replaying game if applicable.\n",
    "    game.replay_feed(players)\n",
    "    if len(players) > 0:\n",
    "        continue\n",
    "    else:\n",
    "        break"
   ]
  }
 ],
 "metadata": {
  "kernelspec": {
   "display_name": "Python 3",
   "language": "python",
   "name": "python3"
  },
  "language_info": {
   "codemirror_mode": {
    "name": "ipython",
    "version": 3
   },
   "file_extension": ".py",
   "mimetype": "text/x-python",
   "name": "python",
   "nbconvert_exporter": "python",
   "pygments_lexer": "ipython3",
   "version": "3.7.4"
  }
 },
 "nbformat": 4,
 "nbformat_minor": 2
}
